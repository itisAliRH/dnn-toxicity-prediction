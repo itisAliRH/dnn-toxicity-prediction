{
  "nbformat": 4,
  "nbformat_minor": 0,
  "metadata": {
    "colab": {
      "name": "dnn-toxicity-prediction.ipynb",
      "provenance": [],
      "collapsed_sections": [],
      "mount_file_id": "1WTm3hFfzY3GKuqNAkCdcHjNuPJBJcQOb",
      "authorship_tag": "ABX9TyP50PwxzRqrAJLScProaPjP",
      "include_colab_link": true
    },
    "kernelspec": {
      "name": "python3",
      "display_name": "Python 3"
    }
  },
  "cells": [
    {
      "cell_type": "markdown",
      "metadata": {
        "id": "view-in-github",
        "colab_type": "text"
      },
      "source": [
        "<a href=\"https://colab.research.google.com/github/itisAliRH/dnn-toxicity-prediction/blob/master/dnn_toxicity_prediction.ipynb\" target=\"_parent\"><img src=\"https://colab.research.google.com/assets/colab-badge.svg\" alt=\"Open In Colab\"/></a>"
      ]
    },
    {
      "cell_type": "markdown",
      "metadata": {
        "id": "rr_6CD2awz2D",
        "colab_type": "text"
      },
      "source": [
        "## **Upload NR-ER-test and NR-ER-train folders in your Google Drive and run all abow**\n",
        "\n",
        "Download dataset: [SMILES Toxicity](https://www.kaggle.com/fanconic/notebook)"
      ]
    },
    {
      "cell_type": "code",
      "metadata": {
        "id": "97gX5gm5m0Ol",
        "colab_type": "code",
        "outputId": "ee056d3f-9640-4325-ca18-d272678e9a58",
        "colab": {
          "base_uri": "https://localhost:8080/",
          "height": 34
        }
      },
      "source": [
        "cd '/content/drive/My Drive/dnn-toxicity-prediction'"
      ],
      "execution_count": 9,
      "outputs": [
        {
          "output_type": "stream",
          "text": [
            "/content/drive/My Drive/dnn-toxicity-prediction\n"
          ],
          "name": "stdout"
        }
      ]
    },
    {
      "cell_type": "code",
      "metadata": {
        "id": "GAoKNnVDv8sD",
        "colab_type": "code",
        "colab": {}
      },
      "source": [
        "if not os.path.exists('./NR-ER-test/names_onehots.npy'):\n",
        "  !unzip './NR-ER-test/names_onehots.7z' './NR-ER-test/'\n",
        "else:\n",
        "  print('names_onehots.npy exist in NR-ER-test')\n",
        "if not os.path.exists('./NR-ER-train/names_onehots.npy'):\n",
        "  !unzip './NR-ER-train/names_onehots.7z' './NR-ER-train/'\n",
        "else:\n",
        "  print('names_onehots.npy exist in NR-ER-train')"
      ],
      "execution_count": 0,
      "outputs": []
    },
    {
      "cell_type": "code",
      "metadata": {
        "id": "4ELEoRtenpzC",
        "colab_type": "code",
        "colab": {
          "base_uri": "https://localhost:8080/",
          "height": 972
        },
        "outputId": "266d6612-507e-4a08-e107-88b7bda85145"
      },
      "source": [
        "!python train.py"
      ],
      "execution_count": 29,
      "outputs": [
        {
          "output_type": "stream",
          "text": [
            "2020-06-16 15:20:06.831208: I tensorflow/stream_executor/platform/default/dso_loader.cc:44] Successfully opened dynamic library libcudart.so.10.1\n",
            "2020-06-16 15:20:08.739549: I tensorflow/core/profiler/lib/profiler_session.cc:159] Profiler session started.\n",
            "2020-06-16 15:20:08.740643: I tensorflow/stream_executor/platform/default/dso_loader.cc:44] Successfully opened dynamic library libcuda.so.1\n",
            "2020-06-16 15:20:09.547460: E tensorflow/stream_executor/cuda/cuda_driver.cc:313] failed call to cuInit: CUDA_ERROR_NO_DEVICE: no CUDA-capable device is detected\n",
            "2020-06-16 15:20:09.547528: I tensorflow/stream_executor/cuda/cuda_diagnostics.cc:156] kernel driver does not appear to be running on this host (60a04352fa65): /proc/driver/nvidia/version does not exist\n",
            "2020-06-16 15:20:09.547798: I tensorflow/core/platform/cpu_feature_guard.cc:143] Your CPU supports instructions that this TensorFlow binary was not compiled to use: AVX512F\n",
            "2020-06-16 15:20:09.553546: I tensorflow/core/platform/profile_utils/cpu_utils.cc:102] CPU Frequency: 2000140000 Hz\n",
            "2020-06-16 15:20:09.553833: I tensorflow/compiler/xla/service/service.cc:168] XLA service 0x15a4bc0 initialized for platform Host (this does not guarantee that XLA will be used). Devices:\n",
            "2020-06-16 15:20:09.553874: I tensorflow/compiler/xla/service/service.cc:176]   StreamExecutor device (0): Host, Default Version\n",
            "Epoch 1/15\n",
            "2020-06-16 15:20:11.589163: I tensorflow/core/profiler/lib/profiler_session.cc:159] Profiler session started.\n",
            "  1/241 [..............................] - ETA: 0s - loss: 1.4192 - accuracy: 0.53122020-06-16 15:20:12.077113: I tensorflow/core/profiler/rpc/client/save_profile.cc:168] Creating directory: logs/epoach-15-CNN-1592320808/train/plugins/profile/2020_06_16_15_20_12\n",
            "2020-06-16 15:20:12.082156: I tensorflow/core/profiler/rpc/client/save_profile.cc:174] Dumped gzipped tool data for trace.json.gz to logs/epoach-15-CNN-1592320808/train/plugins/profile/2020_06_16_15_20_12/60a04352fa65.trace.json.gz\n",
            "2020-06-16 15:20:12.083785: I tensorflow/core/profiler/utils/event_span.cc:288] Generation of step-events took 0.035 ms\n",
            "\n",
            "2020-06-16 15:20:12.102394: I tensorflow/python/profiler/internal/profiler_wrapper.cc:87] Creating directory: logs/epoach-15-CNN-1592320808/train/plugins/profile/2020_06_16_15_20_12Dumped tool data for overview_page.pb to logs/epoach-15-CNN-1592320808/train/plugins/profile/2020_06_16_15_20_12/60a04352fa65.overview_page.pb\n",
            "Dumped tool data for input_pipeline.pb to logs/epoach-15-CNN-1592320808/train/plugins/profile/2020_06_16_15_20_12/60a04352fa65.input_pipeline.pb\n",
            "Dumped tool data for tensorflow_stats.pb to logs/epoach-15-CNN-1592320808/train/plugins/profile/2020_06_16_15_20_12/60a04352fa65.tensorflow_stats.pb\n",
            "Dumped tool data for kernel_stats.pb to logs/epoach-15-CNN-1592320808/train/plugins/profile/2020_06_16_15_20_12/60a04352fa65.kernel_stats.pb\n",
            "\n",
            "241/241 [==============================] - 114s 473ms/step - loss: 0.6554 - accuracy: 0.8655 - val_loss: 0.4806 - val_accuracy: 0.8981\n",
            "Epoch 2/15\n",
            "241/241 [==============================] - 110s 457ms/step - loss: 0.4749 - accuracy: 0.8794 - val_loss: 0.4086 - val_accuracy: 0.8981\n",
            "Epoch 3/15\n",
            "241/241 [==============================] - 110s 456ms/step - loss: 0.4217 - accuracy: 0.8793 - val_loss: 0.4442 - val_accuracy: 0.8943\n",
            "Epoch 4/15\n",
            "241/241 [==============================] - 109s 453ms/step - loss: 0.3984 - accuracy: 0.8820 - val_loss: 0.4619 - val_accuracy: 0.8792\n",
            "Epoch 5/15\n",
            "241/241 [==============================] - 110s 455ms/step - loss: 0.3845 - accuracy: 0.8796 - val_loss: 0.5929 - val_accuracy: 0.8075\n",
            "Epoch 6/15\n",
            "241/241 [==============================] - 110s 456ms/step - loss: 0.3681 - accuracy: 0.8835 - val_loss: 0.3596 - val_accuracy: 0.8943\n",
            "Epoch 7/15\n",
            "241/241 [==============================] - 110s 455ms/step - loss: 0.3648 - accuracy: 0.8822 - val_loss: 0.3667 - val_accuracy: 0.8943\n",
            "Epoch 8/15\n",
            "241/241 [==============================] - 110s 457ms/step - loss: 0.3646 - accuracy: 0.8810 - val_loss: 0.7284 - val_accuracy: 0.5094\n",
            "Epoch 9/15\n",
            "241/241 [==============================] - 110s 457ms/step - loss: 0.3555 - accuracy: 0.8826 - val_loss: 0.6668 - val_accuracy: 0.5811\n",
            "Epoch 10/15\n",
            "241/241 [==============================] - 110s 455ms/step - loss: 0.3561 - accuracy: 0.8823 - val_loss: 0.7018 - val_accuracy: 0.5774\n",
            "Epoch 11/15\n",
            "241/241 [==============================] - 109s 454ms/step - loss: 0.3487 - accuracy: 0.8853 - val_loss: 0.6110 - val_accuracy: 0.7283\n",
            "Epoch 12/15\n",
            "241/241 [==============================] - 108s 449ms/step - loss: 0.3477 - accuracy: 0.8850 - val_loss: 0.4098 - val_accuracy: 0.8830\n",
            "Epoch 13/15\n",
            "241/241 [==============================] - 108s 449ms/step - loss: 0.3445 - accuracy: 0.8853 - val_loss: 0.3726 - val_accuracy: 0.8868\n",
            "Epoch 14/15\n",
            "241/241 [==============================] - 108s 449ms/step - loss: 0.3447 - accuracy: 0.8842 - val_loss: 0.4799 - val_accuracy: 0.8415\n",
            "Epoch 15/15\n",
            "241/241 [==============================] - 112s 463ms/step - loss: 0.3400 - accuracy: 0.8852 - val_loss: 0.3967 - val_accuracy: 0.8943\n",
            "9/9 [==============================] - 1s 140ms/step - loss: 0.3967 - accuracy: 0.8943\n",
            "[0.39665505290031433, 0.8943396210670471]\n",
            "2020-06-16 15:47:48.091065: W tensorflow/python/util/util.cc:329] Sets are not currently considered sequences, but this may change in the future, so consider avoiding using them.\n",
            "WARNING:tensorflow:From /usr/local/lib/python3.6/dist-packages/tensorflow/python/ops/resource_variable_ops.py:1817: calling BaseResourceVariable.__init__ (from tensorflow.python.ops.resource_variable_ops) with constraint is deprecated and will be removed in a future version.\n",
            "Instructions for updating:\n",
            "If using Keras pass *_constraint arguments to layers.\n"
          ],
          "name": "stdout"
        }
      ]
    },
    {
      "cell_type": "code",
      "metadata": {
        "id": "C7BvfJedrwXf",
        "colab_type": "code",
        "colab": {
          "base_uri": "https://localhost:8080/",
          "height": 238
        },
        "outputId": "ecd69371-d9b7-4633-84e7-00a45241c563"
      },
      "source": [
        "!python evaluate.py"
      ],
      "execution_count": 31,
      "outputs": [
        {
          "output_type": "stream",
          "text": [
            "2020-06-16 15:48:39.434718: I tensorflow/stream_executor/platform/default/dso_loader.cc:44] Successfully opened dynamic library libcudart.so.10.1\n",
            "2020-06-16 15:48:41.486763: I tensorflow/stream_executor/platform/default/dso_loader.cc:44] Successfully opened dynamic library libcuda.so.1\n",
            "2020-06-16 15:48:41.489919: E tensorflow/stream_executor/cuda/cuda_driver.cc:313] failed call to cuInit: CUDA_ERROR_NO_DEVICE: no CUDA-capable device is detected\n",
            "2020-06-16 15:48:41.489963: I tensorflow/stream_executor/cuda/cuda_diagnostics.cc:156] kernel driver does not appear to be running on this host (60a04352fa65): /proc/driver/nvidia/version does not exist\n",
            "2020-06-16 15:48:41.490202: I tensorflow/core/platform/cpu_feature_guard.cc:143] Your CPU supports instructions that this TensorFlow binary was not compiled to use: AVX512F\n",
            "2020-06-16 15:48:41.503419: I tensorflow/core/platform/profile_utils/cpu_utils.cc:102] CPU Frequency: 2000140000 Hz\n",
            "2020-06-16 15:48:41.503710: I tensorflow/compiler/xla/service/service.cc:168] XLA service 0x161ed80 initialized for platform Host (this does not guarantee that XLA will be used). Devices:\n",
            "2020-06-16 15:48:41.503751: I tensorflow/compiler/xla/service/service.cc:176]   StreamExecutor device (0): Host, Default Version\n",
            "CNN-1592320808.model\n",
            "9/9 [==============================] - 1s 138ms/step - loss: 0.3967 - accuracy: 0.8943\n",
            "[0.39665505290031433, 0.8943396210670471]\n",
            "\n",
            "---------------------------\n"
          ],
          "name": "stdout"
        }
      ]
    },
    {
      "cell_type": "code",
      "metadata": {
        "id": "K6Uls5ZgxjjJ",
        "colab_type": "code",
        "colab": {}
      },
      "source": [
        ""
      ],
      "execution_count": 0,
      "outputs": []
    }
  ]
}